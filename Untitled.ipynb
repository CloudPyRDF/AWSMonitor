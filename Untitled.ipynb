{
 "cells": [
  {
   "cell_type": "code",
   "execution_count": 1,
   "id": "da08b6a2-f99d-4812-b85f-9f982be865e8",
   "metadata": {},
   "outputs": [
    {
     "data": {
      "text/html": [
       "<div style=\"display: flex; justify-content: center; align-items: center\"><div style=\"height: 200px; width: 500px;\"><div style=\"height: 35px; width: 495px; background-color: #ffb029; display: flex; flex-direction: row; justify-content: left; align-items: center; padding-left: 5px\"><text style=\"font-weight: 900; margin-right: 30px\">AWSMonitor</text><text style=\"font-weight: 900\">Partitions: 64</text></div><div style=\"height: 35px; width: 440px; background-color: #d6d6d6; display: flex; flex-direction: row; justify-content: space-between; align-items: center;padding-left: 30px; padding-right: 30px\"><text style=\"font-weight: 900;\">Status</text><text style=\"font-weight: 900\">Progress</text><text style=\"font-weight: 900\">Duration</text></div><div style=\"height: 35px; width: 440px; display: flex; flex-direction: row; justify-content: space-between; align-items: center; margin-top: 10px; padding-left: 30px; padding-right: 30px\"><text style=\"font-weight: 900;\">Created</text><div style=\"height: 25px; width: 250px; border-style: solid; background-color: #d6d6d6\"><div style=\"height: 25px; width: 200px; background-color: #80d2ff\"></div></div><text style=\"font-weight: 900;\">6000 ms</text>\t</div><div style=\"height: 5px; width: 500px; margin-top: 10px; background-color: #d6d6d6\"></div><div style=\"height: 35px; width: 440px; display: flex; flex-direction: row; justify-content: space-between; align-items: center; margin-top: 10px; padding-left: 30px; padding-right: 30px\"><text style=\"font-weight: 900;\">Finished</text><div style=\"height: 25px; width: 250px; border-style: solid; background-color: #d6d6d6\"><div style=\"height: 25px; width: 100px; background-color: #5bfc60\"></div></div><text style=\"font-weight: 900;\">2000 ms</text>\t</div></div></div>"
      ],
      "text/plain": [
       "<IPython.core.display.HTML object>"
      ]
     },
     "metadata": {},
     "output_type": "display_data"
    }
   ],
   "source": [
    "from IPython.core.display import display, HTML\n",
    "display(HTML('<div style=\"display: flex; justify-content: center; align-items: center\"><div style=\"height: 200px; width: 500px;\"><div style=\"height: 35px; width: 495px; background-color: #ffb029; display: flex; flex-direction: row; justify-content: left; align-items: center; padding-left: 5px\"><text style=\"font-weight: 900; margin-right: 30px\">AWSMonitor</text><text style=\"font-weight: 900\">Partitions: 64</text></div><div style=\"height: 35px; width: 440px; background-color: #d6d6d6; display: flex; flex-direction: row; justify-content: space-between; align-items: center;padding-left: 30px; padding-right: 30px\"><text style=\"font-weight: 900;\">Status</text><text style=\"font-weight: 900\">Progress</text><text style=\"font-weight: 900\">Duration</text></div><div style=\"height: 35px; width: 440px; display: flex; flex-direction: row; justify-content: space-between; align-items: center; margin-top: 10px; padding-left: 30px; padding-right: 30px\"><text style=\"font-weight: 900;\">Created</text><div style=\"height: 25px; width: 250px; border-style: solid; background-color: #d6d6d6\"><div style=\"height: 25px; width: 200px; background-color: #80d2ff\"></div></div><text style=\"font-weight: 900;\">6000 ms</text>\t</div><div style=\"height: 5px; width: 500px; margin-top: 10px; background-color: #d6d6d6\"></div><div style=\"height: 35px; width: 440px; display: flex; flex-direction: row; justify-content: space-between; align-items: center; margin-top: 10px; padding-left: 30px; padding-right: 30px\"><text style=\"font-weight: 900;\">Finished</text><div style=\"height: 25px; width: 250px; border-style: solid; background-color: #d6d6d6\"><div style=\"height: 25px; width: 100px; background-color: #5bfc60\"></div></div><text style=\"font-weight: 900;\">2000 ms</text>\t</div></div></div>'))"
   ]
  },
  {
   "cell_type": "code",
   "execution_count": null,
   "id": "188db7b6-0038-4b24-8d64-be695bbc2912",
   "metadata": {},
   "outputs": [],
   "source": []
  }
 ],
 "metadata": {
  "kernelspec": {
   "display_name": "Python 3",
   "language": "python",
   "name": "python3"
  },
  "language_info": {
   "codemirror_mode": {
    "name": "ipython",
    "version": 3
   },
   "file_extension": ".py",
   "mimetype": "text/x-python",
   "name": "python",
   "nbconvert_exporter": "python",
   "pygments_lexer": "ipython3",
   "version": "3.8.5"
  }
 },
 "nbformat": 4,
 "nbformat_minor": 5
}
